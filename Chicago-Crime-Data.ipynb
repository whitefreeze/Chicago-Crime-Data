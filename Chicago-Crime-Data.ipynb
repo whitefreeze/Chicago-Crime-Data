{
 "cells": [
  {
   "cell_type": "markdown",
   "id": "682e533d",
   "metadata": {},
   "source": [
    "# Chicago Crime Data"
   ]
  },
  {
   "cell_type": "markdown",
   "id": "148e54f9",
   "metadata": {},
   "source": [
    "## Import Necessary Libraries"
   ]
  },
  {
   "cell_type": "code",
   "execution_count": 1,
   "id": "3197a0a1",
   "metadata": {},
   "outputs": [],
   "source": [
    "# Libraries\n",
    "import pandas as pd\n",
    "import numpy as np\n",
    "import seaborn as sns\n",
    "import matplotlib.pyplot as plt\n",
    "# import datetime as dt\n",
    "\n",
    "# Permanently changes the pandas settings\n",
    "pd.set_option('display.max_columns', None)\n",
    "pd.set_option('display.max_rows', 7)\n",
    "\n",
    "from sklearn import set_config\n",
    "set_config(display='diagram')\n",
    "\n",
    "# display values with two decimal places and comma separation for powers of thousands.\n",
    "pd.set_option('display.float_format', lambda x: f\"{x:,.2f}\")"
   ]
  },
  {
   "cell_type": "markdown",
   "id": "0a32ebf6",
   "metadata": {},
   "source": [
    "## Load the Data"
   ]
  },
  {
   "cell_type": "code",
   "execution_count": null,
   "id": "15cddce7",
   "metadata": {},
   "outputs": [],
   "source": [
    "# Import the data\n",
    "path = ''\n",
    "df_OE = pd.read_csv(path)\n",
    "df_OE.head()"
   ]
  },
  {
   "cell_type": "code",
   "execution_count": null,
   "id": "4678bcf2",
   "metadata": {},
   "outputs": [],
   "source": [
    "df = df_OE.copy()"
   ]
  },
  {
   "cell_type": "markdown",
   "id": "d52362a2",
   "metadata": {},
   "source": [
    "## Prepare DataFrame"
   ]
  },
  {
   "cell_type": "code",
   "execution_count": null,
   "id": "2ee9acfe",
   "metadata": {},
   "outputs": [],
   "source": [
    "# Specify shape of dataframe (long)\n",
    "df_long = df"
   ]
  },
  {
   "cell_type": "code",
   "execution_count": null,
   "id": "eb4be3ad",
   "metadata": {},
   "outputs": [],
   "source": [
    "# Convert date into the datetime datatype\n",
    "df_long['Date'] = pd.to_datetime(df_long['Date'])\n",
    "df_long.info()"
   ]
  },
  {
   "cell_type": "code",
   "execution_count": null,
   "id": "465ae84e",
   "metadata": {},
   "outputs": [],
   "source": [
    "# Create different shape of dataframe (wide)\n",
    "df_wide = df.cumsum()"
   ]
  },
  {
   "cell_type": "code",
   "execution_count": null,
   "id": "beb29cf4",
   "metadata": {},
   "outputs": [],
   "source": []
  },
  {
   "cell_type": "code",
   "execution_count": null,
   "id": "b793e4a4",
   "metadata": {},
   "outputs": [],
   "source": []
  },
  {
   "cell_type": "code",
   "execution_count": null,
   "id": "258b6c60",
   "metadata": {},
   "outputs": [],
   "source": []
  },
  {
   "cell_type": "code",
   "execution_count": null,
   "id": "298cd419",
   "metadata": {},
   "outputs": [],
   "source": []
  },
  {
   "cell_type": "code",
   "execution_count": null,
   "id": "2dc88065",
   "metadata": {},
   "outputs": [],
   "source": []
  },
  {
   "cell_type": "markdown",
   "id": "61c17fd3",
   "metadata": {},
   "source": [
    "## Comparing Police Districts:\n",
    "Which district has the most crimes? Which has the least?\n"
   ]
  },
  {
   "cell_type": "code",
   "execution_count": null,
   "id": "f9118cf0",
   "metadata": {},
   "outputs": [],
   "source": []
  }
 ],
 "metadata": {
  "kernelspec": {
   "display_name": "Python (dojo-env)",
   "language": "python",
   "name": "dojo-env"
  },
  "language_info": {
   "codemirror_mode": {
    "name": "ipython",
    "version": 3
   },
   "file_extension": ".py",
   "mimetype": "text/x-python",
   "name": "python",
   "nbconvert_exporter": "python",
   "pygments_lexer": "ipython3",
   "version": "3.9.15"
  },
  "toc": {
   "base_numbering": 1,
   "nav_menu": {},
   "number_sections": false,
   "sideBar": true,
   "skip_h1_title": false,
   "title_cell": "Table of Contents",
   "title_sidebar": "Contents",
   "toc_cell": false,
   "toc_position": {},
   "toc_section_display": true,
   "toc_window_display": false
  }
 },
 "nbformat": 4,
 "nbformat_minor": 5
}
